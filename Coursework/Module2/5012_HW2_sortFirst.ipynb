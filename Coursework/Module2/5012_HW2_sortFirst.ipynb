{
 "cells": [
  {
   "cell_type": "markdown",
   "metadata": {
    "id": "YgaqXBYJDx0D"
   },
   "source": [
    "# 5012 HW #2. Improve code Efficiency: Sort First!\n",
    "\n",
    "## Scenario. \n",
    "\n",
    "In a two class, classification problem, it is common to use a classifier that outputs confidences (rather than simply class labels). A good example of this is a Support Vector Machine. A pro for using such a classifier is that you gain more information -- specifically the confidence in the classification result. A con is that in order to make a final classification decision, a threshold value must be determined. For example, if a threshold of 0.75 is chosen, the class label 1 would be assigned for confidences greater than 0.75 and for confidences less than 0.75 a class label of 0 would be assigned. However, this begs the question: how is the threshold chosen?\n",
    "\n",
    "Many data scientists will choose a threshold based on the experimental results and/or operational constraints. In this code example, we assume that we have confidences and true labels for a large data set. To determine a good threshold we will compute the true positive rates (TPRs) and false positive rates (FPRs) at all relevant thresholds. The relevant thresholds are considered those that would change the TPRs and FPRs. \n",
    "\n",
    "In the code below, a function is defined to compute the TPR and FPR at all relevant thresholds. However, the code is not very efficient and can be improved. (Note there are tips and hints found in the comments.) \n",
    "\n",
    "Your task is the following:\n",
    "\n",
    "## Question 1\n",
    "**40 POINTS**  \n",
    "Assess the time complexity of the method computeAllTPRs(...). Provide a line-by-line assessment in comments identifying the proportional number of steps (bounding notation is sufficient) per line: eg, O(1), O(log n), O(n), etc. Also, derive a time step function T(n) for the entire method (where n is the size of input true_label).\n",
    "\n",
    "## Question 2\n",
    "**30 POINTS**  \n",
    "Implement a new function computeAllTPRs_improved(...) which performs the same task as computeAllTPRs but has a significantly reduced time complexity. Also provide a line-by-line assessment in comments identifying the proportional number of steps per line, and derive a time step function T(n) for the entire method (where n is the size of input true_label).\n",
    "\n",
    "## Question 3\n",
    "**30 POINTS**  \n",
    "Compare the theoretical time complexities of both methods and predict which is more efficient. Next, test your prediction by timing both methods on sample inputs of varying sizes. Create a plot of inputSize vs runtime (as done in similar class examples).  \n",
    "\n",
    "**TOTAL POINTS: 100**\n",
    "\n",
    "---"
   ]
  },
  {
   "cell_type": "code",
   "execution_count": 1,
   "metadata": {
    "id": "tQs8b3ccEskN"
   },
   "outputs": [],
   "source": [
    "import matplotlib.pyplot as plt\n",
    "import random\n",
    "from copy import deepcopy\n",
    "from numpy import argmax"
   ]
  },
  {
   "cell_type": "markdown",
   "metadata": {
    "id": "l4t6Gd-XNWdr"
   },
   "source": [
    "Answer Question #1 in the comments of the code chunk below. "
   ]
  },
  {
   "cell_type": "code",
   "execution_count": 2,
   "metadata": {
    "id": "IFu90tkjEORa"
   },
   "outputs": [],
   "source": [
    "def computeAllTPRs(true_label, confs):\n",
    "    '''\n",
    "\n",
    "    inputs:\n",
    "        - true_label: list of labels, assumed to be 0 or 1 (a two class problem)\n",
    "        - confs: list of confidences\n",
    "\n",
    "    This method computes the True Positive Rate (TPRs) and FPRs for all relevant\n",
    "    thresholds given true_label and confs. Relevant thresholds are considered\n",
    "    all different values found in confs.\n",
    "    '''\n",
    "\n",
    "    # Define / initialize  variables\n",
    "    sentinelValue = -1 # used to replace max value found thus far O(1)\n",
    "    totalPositives = sum(true_label) #O(n)\n",
    "    totalNegatives = len(true_label) - totalPositives  # O(1) len() is a constant time operation\n",
    "    #print(true_label)\n",
    "    truePositives = 0 #O(1)\n",
    "    falsePositives = 0 #O(1)\n",
    "    # Hint: Consider Memory Management\n",
    "    truePositiveRate = []\n",
    "    falsePositiveRate = []\n",
    "\n",
    "    #Hint: Although not explicitly clear, the loop structure below is an \n",
    "        #embeded loop ie, O(n^2) ... do you see why??\n",
    "    #Hint: If you sort the confidences first you can improve the iteration scheme.\n",
    "        \n",
    "    # Iterate over all relevant thresholds. Compute TPR and FPR for each and \n",
    "    # append to truePositiveRate , falsePositiveRate lists. \n",
    "    for i in range(len(confs)): # O(n)\n",
    "        maxVal = max(confs)  # Max Function takes O(n)\n",
    "        argMax = argmax(confs) # argMax takes O(n)\n",
    "        confs[argMax] = sentinelValue # Access a list at index n is O(1)\n",
    "        #print(argMax)\n",
    "        if true_label[argMax]==1: #O(1)\n",
    "            truePositives += 1 # O(1)\n",
    "        else:\n",
    "            falsePositives += 1 #O(1)\n",
    "\n",
    "        truePositiveRate.append(truePositives/totalPositives) # Appending to a list in python has a linear time complexity. O(1)\n",
    "        falsePositiveRate.append(falsePositives/totalNegatives)  # Appending to a list in python has a linear time complexity. O(1)\n",
    "\n",
    "    # Plot FPR vs TPR for all possible thresholds \n",
    "    # plt.plot(falsePositiveRate,truePositiveRate, label ='class' + str(i) + ' to all')\n",
    "    # plt.legend()\n",
    "    # plt.xlabel('False Positive Rate')\n",
    "    # plt.ylabel('True Positive Rate')\n",
    "    # plt.show()\n"
   ]
  },
  {
   "cell_type": "markdown",
   "metadata": {},
   "source": [
    "In the method computeAllTPRs, the first block of code is for instantiation of objects. Before, the for loop we can calculate the time complexity with the following information.\n",
    "- sentinelValue = $O(1)$\n",
    "- totalPositives = $O(n)$\n",
    "- totalNegatives = $O(1)$\n",
    "- truePositives = $O(1)$\n",
    "- falsePositves = $O(1)$\n",
    "- truePositiveRate = $O(1)$\n",
    "- falsePositiveRate = $O(1)$\n",
    "\n",
    "Thus until the for loop we get T(n) = n + 6\n",
    "From the for loop we know that the for loop will be O(n). Since everything in the for loop is being done n times we can go line by line and factor in the for loop time complexity similar to a distribution rule.\n",
    "- maxVal = $O(n)$ = $O(n^2)$\n",
    "- argMax = $O(n)$ = $O(n^2)$\n",
    "- confs[argMax] = $O(1)$ = $O(n)$\n",
    "- if true_label[argMax]... = $O(1)$ = $O(n)$\n",
    "- truePositives += 1 = $O(1)$ = $O(n)$\n",
    "- else = $O(1)$ = $O(n)$\n",
    "- falsePositives +=1 = $O(1)$ = $O(n)$\n",
    "- truePositiveRate.append = $O(1)$ = $O(n)$\n",
    "- falsePositiveRate.append = $O(1)$ = $O(n)$\n",
    "\n",
    "In total for the for loop portion of the code we get that $T(n) = 2n^2 + 7n$\n",
    "\n",
    "Together for the entire method we get that $T(n) = 2n^2 + 8n + 6$, which will give us $O(n^2)$"
   ]
  },
  {
   "cell_type": "code",
   "execution_count": 3,
   "metadata": {},
   "outputs": [],
   "source": [
    "def testComputeAllTPRs(numSamples):\n",
    "    confList = []\n",
    "    labels = []\n",
    "    maxVal = 10000\n",
    "    #numSamples = 10000\n",
    "    for i in range(0,numSamples):\n",
    "        random.seed(i+1)\n",
    "        n = random.randint(1,maxVal)\n",
    "        confList.append(n/maxVal)\n",
    "        if n/maxVal > .5: \n",
    "            lab = 1 \n",
    "        else: \n",
    "            lab = 0\n",
    "        labels.append(lab)\n",
    "    computeAllTPRs(labels, deepcopy(confList))  # Why a deepcopy here?"
   ]
  },
  {
   "cell_type": "markdown",
   "metadata": {
    "id": "J0aNsuFFMzLt"
   },
   "source": [
    "Below, provide your implementation for Question #2."
   ]
  },
  {
   "cell_type": "code",
   "execution_count": 4,
   "metadata": {
    "id": "I4SoYMYBMyzA"
   },
   "outputs": [],
   "source": [
    "def computeAllTPRs_improved(true_label, confs):\n",
    "    '''\n",
    "\n",
    "    inputs:\n",
    "        - true_label: list of labels, assumed to be 0 or 1 (a two class problem)\n",
    "        - confs: list of confidences\n",
    "\n",
    "    This method computes the True Positive Rate (TPRs) and FPRs for all relevant\n",
    "    thresholds given true_label and confs. Relevant thresholds are considered\n",
    "    all different values found in confs.\n",
    "    '''\n",
    "\n",
    "    # Define / initialize  variables\n",
    "    sentinelValue = -1 # used to replace max value found thus far O(1)\n",
    "    totalPositives = sum(true_label) #O(n)\n",
    "    totalNegatives = len(true_label) - totalPositives  # O(1) len() is a constant time operation\n",
    "    #print(true_label)\n",
    "    truePositives = 0 #O(1)\n",
    "    falsePositives = 0 #O(1)\n",
    "    # Hint: Consider Memory Management\n",
    "    truePositiveRate = []\n",
    "    falsePositiveRate = []\n",
    "\n",
    "    #Hint: Although not explicitly clear, the loop structure below is an \n",
    "        #embeded loop ie, O(n^2) ... do you see why??\n",
    "    #Hint: If you sort the confidences first you can improve the iteration scheme.\n",
    "        \n",
    "    # Iterate over all relevant thresholds. Compute TPR and FPR for each and \n",
    "    # append to truePositiveRate , falsePositiveRate lists. \n",
    "    for i in range(len(confs)):\n",
    "        confs[i] = (confs[i],i)\n",
    "    confs.sort(key=lambda x:x[0]) # O(n log n) python uses tim sort\n",
    "    confs.reverse()\n",
    "    for i in range(len(confs)): # O(n)\n",
    "        maxVal,argMax = confs[i]  # O(1)\n",
    "        #argMax = i # O(1)\n",
    "        #confs[argMax] = sentinelValue # Access a list at index n is O(1)\n",
    "        if true_label[argMax]==1: #O(1)\n",
    "            truePositives += 1 # O(1)\n",
    "        else:\n",
    "            falsePositives += 1 #O(1)\n",
    "\n",
    "        truePositiveRate.append(truePositives/totalPositives) # Appending to a list in python has a linear time complexity. O(1)\n",
    "        falsePositiveRate.append(falsePositives/totalNegatives)  # Appending to a list in python has a linear time complexity. O(1)\n",
    "    \n",
    "    # Plot FPR vs TPR for all possible thresholds \n",
    "    # plt.plot(falsePositiveRate,truePositiveRate, label ='class' + str(i) + ' to all')\n",
    "    # plt.legend()\n",
    "    # plt.xlabel('False Positive Rate')\n",
    "    # plt.ylabel('True Positive Rate')\n",
    "    # plt.show()\n"
   ]
  },
  {
   "cell_type": "markdown",
   "metadata": {},
   "source": [
    "In the method computeAllTPRs, the first block of code is for instantiation of objects. Before, the for loop we can calculate the time complexity with the following information.\n",
    "- sentinelValue = $O(1)$\n",
    "- totalPositives = $O(n)$\n",
    "- totalNegatives = $O(1)$\n",
    "- truePositives = $O(1)$\n",
    "- falsePositves = $O(1)$\n",
    "- truePositiveRate = $O(1)$\n",
    "- falsePositiveRate = $O(1)$\n",
    "\n",
    "Thus until the for loop we get T(n) = n + 6\n",
    "\n",
    "In our improved method we add another layer of for loops to mimic the enumrate the list so that we can keep a record of the original index values as the second element (1st index in the tuple)\n",
    "The process is done for every element so the added time complexity is n.\n",
    "\n",
    "Before we enter the forloop containing the logic for the confidences, we sort and reverse the list of confidences. The sort results in a n log n operation because python uses tim sort for the native sort function.\n",
    "The reverse operator simply creates a reverse which is another n operation. \n",
    "\n",
    "From the for loop we know that the for loop will be O(n). Since everything in the for loop is being done n times we can go line by line and factor in the for loop time complexity similar to a distribution rule.\n",
    "- maxVal,argMax = $O(1)$ = $O(n)$\n",
    "- if true_label[argMax]... = $O(1)$ = $O(n)$\n",
    "- truePositives += 1 = $O(1)$ = $O(n)$\n",
    "- else = $O(1)$ = $O(n)$\n",
    "- falsePositives +=1 = $O(1)$ = $O(n)$\n",
    "- truePositiveRate.append = $O(1)$ = $O(n)$\n",
    "- falsePositiveRate.append = $O(1)$ = $O(n)$\n",
    "\n",
    "In total for the for loop portion of the code we get that $T(n) = 7n$\n",
    "\n",
    "Together all of these operations will yield $T(n) = (n+6) + (n + nlogn + n) + (7n) = nlogn + 10n + 6$, which will result in a  $O(n log n)$ operation due to the most complex function of the sort function. "
   ]
  },
  {
   "cell_type": "markdown",
   "metadata": {
    "id": "lP72j3GqM6AH"
   },
   "source": [
    "Question #3. Below, provide your code which records and plots the runtime for the original and improved methods. "
   ]
  },
  {
   "cell_type": "markdown",
   "metadata": {},
   "source": [
    "In order to compare the two methods (original vs improved) we make a method to create the samples needed to run the functions. Since the improved function has a $O(n log n)$ it should be running faster as the number of $n$ increases. Showcased is the complexity graph (with the exclusion of plots iside the functions)"
   ]
  },
  {
   "cell_type": "code",
   "execution_count": 5,
   "metadata": {},
   "outputs": [],
   "source": [
    "def createTestSamples(numSamples):\n",
    "    confList = []\n",
    "    labels = []\n",
    "    maxVal = 10000\n",
    "    for i in range(0,numSamples):\n",
    "        random.seed(i+1)\n",
    "        n = random.randint(1,maxVal)\n",
    "        confList.append(n/maxVal)\n",
    "        if n/maxVal > .5: \n",
    "            lab = 1 \n",
    "        else: \n",
    "            lab = 0\n",
    "        labels.append(lab)\n",
    "    return [labels, deepcopy(confList)]"
   ]
  },
  {
   "cell_type": "code",
   "execution_count": 6,
   "metadata": {},
   "outputs": [
    {
     "data": {
      "text/plain": [
       "Text(0, 0.5, 'Runtime')"
      ]
     },
     "execution_count": 6,
     "metadata": {},
     "output_type": "execute_result"
    },
    {
     "data": {
      "image/png": "[encoded data removed]",
      "text/plain": [
       "<Figure size 432x288 with 1 Axes>"
      ]
     },
     "metadata": {
      "needs_background": "light"
     },
     "output_type": "display_data"
    }
   ],
   "source": [
    "import time\n",
    "original = []\n",
    "improved = []\n",
    "size = 2000\n",
    "stepSize=100\n",
    "startStep=10\n",
    "## calculate the time required to sort various size lists\n",
    "for i in range(startStep, size, stepSize):\n",
    "    labels, conf = createTestSamples(i)\n",
    "    labels1, conf1 = createTestSamples(i)\n",
    "    ## do the original\n",
    "    start = time.perf_counter()\n",
    "    computeAllTPRs(labels, conf)\n",
    "    original.append(time.perf_counter() - start)\n",
    "    \n",
    "    ## do the improved\n",
    "    start = time.perf_counter()\n",
    "    computeAllTPRs_improved(labels1, conf1)\n",
    "    improved.append(time.perf_counter() - start)\n",
    "    \n",
    "## plot the results\n",
    "plt.plot(range(startStep, size, stepSize), original, label = 'Original')\n",
    "plt.plot(range(startStep, size, stepSize), improved, label = 'Improved')\n",
    "#plt.plot(range(0, size, stepSize), defaultTime, label = 'Default')\n",
    "plt.legend(frameon = 'none')\n",
    "plt.title('Time Comparison of Original & Improved')\n",
    "plt.xlabel('List Size')\n",
    "plt.ylabel('Runtime')"
   ]
  },
  {
   "cell_type": "code",
   "execution_count": null,
   "metadata": {},
   "outputs": [],
   "source": []
  }
 ],
 "metadata": {
  "colab": {
   "collapsed_sections": [],
   "name": "5012_HW2_sortFirst.ipynb",
   "provenance": []
  },
  "kernelspec": {
   "display_name": "Python 3 (ipykernel)",
   "language": "python",
   "name": "python3"
  },
  "language_info": {
   "codemirror_mode": {
    "name": "ipython",
    "version": 3
   },
   "file_extension": ".py",
   "mimetype": "text/x-python",
   "name": "python",
   "nbconvert_exporter": "python",
   "pygments_lexer": "ipython3",
   "version": "3.9.1"
  }
 },
 "nbformat": 4,
 "nbformat_minor": 4
}
