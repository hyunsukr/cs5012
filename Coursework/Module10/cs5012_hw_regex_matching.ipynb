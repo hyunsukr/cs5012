{
 "cells": [
  {
   "cell_type": "markdown",
   "metadata": {},
   "source": [
    "## Homework: Regular Expressions\n",
    "\n",
    "\n",
    "### University of Virginia\n",
    "### Foundations of Computer Science\n",
    "### Last Updated: November 13, 2021\n",
    "---"
   ]
  },
  {
   "cell_type": "markdown",
   "metadata": {},
   "source": [
    "### Objectives: \n",
    "- Practice writing and testing regular expressions\n",
    "\n",
    "### Executive Summary\n",
    "\n",
    "\n",
    "There are two short text documents in this notebook. You will write regular expressions to find certain patterns.  \n",
    "\n",
    "Note: This website is a helpful resource for writing and testing regexes: [regex101](https://regex101.com/)"
   ]
  },
  {
   "cell_type": "markdown",
   "metadata": {},
   "source": [
    "### Instructions\n",
    "\n",
    "Answer the questions, showing all code and results.  \n",
    "When the file is completed, submit the notebook through Collab.\n",
    "\n",
    "**Notes:**  \n",
    "1) When instructions ask for a case insensitive match on a word or phrase, any mix of uppercase and lowercase characters are a match.  \n",
    "2) The regexes do not need to be robust generally. They simply need to find all the matches in the documents. For example, when matching dollar amounts,  \n",
    "   the regex does not need to guard against matching invald forms such as $61,0 as they are not in the documents. \n",
    "\n",
    "**TOTAL POINTS: 12**\n",
    "\n",
    "---\n"
   ]
  },
  {
   "cell_type": "code",
   "execution_count": 1,
   "metadata": {},
   "outputs": [],
   "source": [
    "import re"
   ]
  },
  {
   "cell_type": "markdown",
   "metadata": {},
   "source": [
    "#### DOCUMENTS FOR SEARCH"
   ]
  },
  {
   "cell_type": "code",
   "execution_count": 2,
   "metadata": {},
   "outputs": [],
   "source": [
    "doc1 = \"(CNN) This is an article about America's Workers. Getting family health insurance on the job now costs workers and their employers more than $22,000 a year, on average. And companies have not been able to do much to make coverage more affordable, even though the coronavirus pandemic has reinforced the importance of health benefits.\\\n",
    "Employees foot about $6,000 of the tab, while companies pick up the rest, according to the 2021 Kaiser Family Foundation Employer Health Benefits Survey. The report, released Wednesday, found that the average annual premium rose 4% this year to $22,221.\\\n",
    "The average annual premium for a single staffer in 2021 hit $7,739, also up 4%. Workers pay about $1,300, and employers cover the remaining tab.\\\n",
    "About 155 million Americans rely on employer-sponsored coverage -- and they are paying a lot more for that benefit than they were a decade ago. The average family premium has increased 47%, more than wages or inflation, which rose 31% and 19%, respectively, Kaiser found.\\\n",
    "The average count is 21,000.\""
   ]
  },
  {
   "cell_type": "code",
   "execution_count": 3,
   "metadata": {},
   "outputs": [],
   "source": [
    "doc2 = \"Curry reacts in the second half against the Chicago Bulls. (CNN)It seems every week NBA superstar Steph Curry is making history.\\\n",
    "Earlier this week, he overtook Wilt Chamberlain to become the oldest player to record 50 points and 10 assists in a game.\\\n",
    "And on Friday night, the 33-year-old passed basketball great Ray Allen for the most three-pointers scored in all NBA games, including playoffs, in NBA history.\\\n",
    "Curry connected with nine of his 17 three-point attempts in the Golden State Warriors' 119-93 win over the Chicago Bulls, taking his tally in regular season and playoff games to 3,366, surpassing Allen's total of 3,358.\\\n",
    "He had come into the game just one behind two-time NBA champion Allen and equaled his record within the first few minutes of the game.\\\n",
    "And he became the all-time lead just minutes later, drilling a long-range effort over Alex Caruso.\""
   ]
  },
  {
   "cell_type": "markdown",
   "metadata": {},
   "source": [
    "---"
   ]
  },
  {
   "cell_type": "markdown",
   "metadata": {},
   "source": [
    "#### 1) (1 POINT) Search *doc1* for the word 'family', print the matches, and print the number of matches."
   ]
  },
  {
   "cell_type": "code",
   "execution_count": 4,
   "metadata": {},
   "outputs": [
    {
     "name": "stdout",
     "output_type": "stream",
     "text": [
      "['family', 'family']\n",
      "2\n"
     ]
    }
   ],
   "source": [
    "re_family = r\"family\"\n",
    "familes = re.findall(re_family, doc1)\n",
    "print(familes)\n",
    "print(len(familes))"
   ]
  },
  {
   "cell_type": "markdown",
   "metadata": {},
   "source": [
    "#### 2) (2 POINTS) Search *doc1* for the first occurrence of the word \"workers\" (case insensitive).  \n",
    "####    If it finds a match, use the start() and end() methods to extract the match from the document, printing the result."
   ]
  },
  {
   "cell_type": "code",
   "execution_count": 5,
   "metadata": {},
   "outputs": [
    {
     "name": "stdout",
     "output_type": "stream",
     "text": [
      "match text: Workers ; start_pos: 41 ; end_pos 48\n",
      "match text: workers ; start_pos: 103 ; end_pos 110\n",
      "match text: Workers ; start_pos: 666 ; end_pos 673\n"
     ]
    }
   ],
   "source": [
    "re_workers = r\"workers\"\n",
    "match_worker = re.finditer(re_workers, doc1,re.IGNORECASE)\n",
    "if match_worker: \n",
    "    for mt in match_worker:\n",
    "        st = mt.start()\n",
    "        ed = mt.end()\n",
    "        print('match text:', mt.string[st:ed], '; start_pos:', st, '; end_pos', ed)"
   ]
  },
  {
   "cell_type": "markdown",
   "metadata": {},
   "source": [
    "#### 3) (1 POINT) Search *doc1* for the word 'family' (case insensitive), print the matches, and print the number of matches."
   ]
  },
  {
   "cell_type": "code",
   "execution_count": 6,
   "metadata": {},
   "outputs": [
    {
     "name": "stdout",
     "output_type": "stream",
     "text": [
      "['family', 'Family', 'family']\n",
      "3\n"
     ]
    }
   ],
   "source": [
    "re_family = r\"family\"\n",
    "familes = re.findall(re_family, doc1, re.IGNORECASE)\n",
    "print(familes)\n",
    "print(len(familes))"
   ]
  },
  {
   "cell_type": "markdown",
   "metadata": {},
   "source": [
    "#### 4) (1 POINT) Search *doc1* for dollar amounts, print the matches, and print the number of matches. Dollar amounts start with \"$\" followed by digits and possibly commas.\n",
    "\n",
    "Note: \"$\" will have different meanings in a regex, so take care to use it properly in this context."
   ]
  },
  {
   "cell_type": "code",
   "execution_count": 7,
   "metadata": {},
   "outputs": [
    {
     "name": "stdout",
     "output_type": "stream",
     "text": [
      "['$22,000', '$6,000', '$22,221', '$7,739', '$1,300']\n",
      "5\n"
     ]
    }
   ],
   "source": [
    "re_money = r\"(\\$[0-9]+,?[0-9]*)\"\n",
    "money = re.findall(re_money, doc1, re.IGNORECASE)\n",
    "print(money)\n",
    "print(len(money))"
   ]
  },
  {
   "cell_type": "markdown",
   "metadata": {},
   "source": [
    "#### 5) (2 POINTS) Search *doc1* for numbers that are not percentages nor dollar amounts. Print the matches, and print the number of matches.\n",
    "\n",
    "\n",
    "Examples:  \n",
    "55 is a match, and 55,000 is a match, and 55. is a match (the last could occur at the end of a sentence, for example.  \n",
    "$55,000 is not a match, and 55% is not a match\n"
   ]
  },
  {
   "cell_type": "code",
   "execution_count": 8,
   "metadata": {},
   "outputs": [
    {
     "name": "stdout",
     "output_type": "stream",
     "text": [
      "['2021', '2021', '155', '21,000']\n",
      "4\n"
     ]
    }
   ],
   "source": [
    "re_not_money_not_percent = r\"(?<=\\s)\\d+,?\\.?\\d+(?!\\%)\"\n",
    "numbers = re.findall(re_not_money_not_percent, doc1, re.IGNORECASE)\n",
    "print(numbers)\n",
    "print(len(numbers))\n"
   ]
  },
  {
   "cell_type": "markdown",
   "metadata": {},
   "source": [
    "---"
   ]
  },
  {
   "cell_type": "markdown",
   "metadata": {},
   "source": [
    "#### The following questions ask you to search doc2.\n",
    "\n",
    "#### 6) (2 POINTS) Search *doc2* for two or more words (consisting of only letters) joined by dashes. Print the matches, and print the number of matches.\n",
    "\n",
    "Examples: \"twenty-year-old\" and \"all-star\"  \n",
    "Non-examples: '22-year' and '110-90' are not matches as they contain numbers\n"
   ]
  },
  {
   "cell_type": "code",
   "execution_count": 9,
   "metadata": {},
   "outputs": [
    {
     "name": "stdout",
     "output_type": "stream",
     "text": [
      "['year-old', 'three-pointers', 'three-point', 'two-time', 'all-time', 'long-range']\n",
      "6\n"
     ]
    },
    {
     "data": {
      "text/plain": [
       "\"Curry reacts in the second half against the Chicago Bulls. (CNN)It seems every week NBA superstar Steph Curry is making history.Earlier this week, he overtook Wilt Chamberlain to become the oldest player to record 50 points and 10 assists in a game.And on Friday night, the 33-year-old passed basketball great Ray Allen for the most three-pointers scored in all NBA games, including playoffs, in NBA history.Curry connected with nine of his 17 three-point attempts in the Golden State Warriors' 119-93 win over the Chicago Bulls, taking his tally in regular season and playoff games to 3,366, surpassing Allen's total of 3,358.He had come into the game just one behind two-time NBA champion Allen and equaled his record within the first few minutes of the game.And he became the all-time lead just minutes later, drilling a long-range effort over Alex Caruso.\""
      ]
     },
     "execution_count": 9,
     "metadata": {},
     "output_type": "execute_result"
    }
   ],
   "source": [
    "re_dashed = r\"[a-z]+-[a-z]+\"\n",
    "dashed = re.findall(re_dashed, doc2, re.IGNORECASE)\n",
    "print(dashed)\n",
    "print(len(dashed))\n",
    "doc2"
   ]
  },
  {
   "cell_type": "markdown",
   "metadata": {},
   "source": [
    "#### 7) (1 POINT) Search *doc2* for all words starting with an uppercase letter.  Print the matches, and print the number of matches. "
   ]
  },
  {
   "cell_type": "code",
   "execution_count": 10,
   "metadata": {},
   "outputs": [
    {
     "name": "stdout",
     "output_type": "stream",
     "text": [
      "['Curry', 'Chicago', 'Bulls', 'CNN', 'It', 'NBA', 'Steph', 'Curry', 'Earlier', 'Wilt', 'Chamberlain', 'And', 'Friday', 'Ray', 'Allen', 'NBA', 'NBA', 'Curry', 'Golden', 'State', 'Warriors', 'Chicago', 'Bulls', 'Allen', 'He', 'NBA', 'Allen', 'And', 'Alex', 'Caruso']\n",
      "30\n"
     ]
    }
   ],
   "source": [
    "re_upper = r\"\\b[A-Z].*?\\b\"\n",
    "upper = re.findall(re_upper, doc2)\n",
    "print(upper)\n",
    "print(len(upper))"
   ]
  },
  {
   "cell_type": "markdown",
   "metadata": {},
   "source": [
    "#### 8) (1 POINT) Search *doc2* for the word \"in.\" Print the matches, and print the number of matches. \n",
    "\n",
    "Example: \"Jordan is *in* the house  \n",
    "Non-example: Jordan is ready to win (careful not to match on the substring \"in\" in \"win\")"
   ]
  },
  {
   "cell_type": "code",
   "execution_count": 11,
   "metadata": {},
   "outputs": [
    {
     "name": "stdout",
     "output_type": "stream",
     "text": [
      "['in', 'in', 'in', 'in', 'in', 'in']\n",
      "6\n"
     ]
    }
   ],
   "source": [
    "re_in = r\"\\b(in)\\b\"\n",
    "in_words = re.findall(re_in, doc2)\n",
    "print(in_words)\n",
    "print(len(in_words))"
   ]
  },
  {
   "cell_type": "markdown",
   "metadata": {},
   "source": [
    "#### 9) (1 POINT) Search *doc2* for a number followed by the word \"points.\"  \n",
    "####    Include capture groups in the regex to extract the number of points, and print the number.  \n",
    "####    Credit is only given if you use capture groups in this exercise.\n",
    "Hint: use the search() function.\n"
   ]
  },
  {
   "cell_type": "code",
   "execution_count": 12,
   "metadata": {},
   "outputs": [
    {
     "name": "stdout",
     "output_type": "stream",
     "text": [
      "['50 points']\n",
      "1\n"
     ]
    },
    {
     "data": {
      "text/plain": [
       "\"Curry reacts in the second half against the Chicago Bulls. (CNN)It seems every week NBA superstar Steph Curry is making history.Earlier this week, he overtook Wilt Chamberlain to become the oldest player to record 50 points and 10 assists in a game.And on Friday night, the 33-year-old passed basketball great Ray Allen for the most three-pointers scored in all NBA games, including playoffs, in NBA history.Curry connected with nine of his 17 three-point attempts in the Golden State Warriors' 119-93 win over the Chicago Bulls, taking his tally in regular season and playoff games to 3,366, surpassing Allen's total of 3,358.He had come into the game just one behind two-time NBA champion Allen and equaled his record within the first few minutes of the game.And he became the all-time lead just minutes later, drilling a long-range effort over Alex Caruso.\""
      ]
     },
     "execution_count": 12,
     "metadata": {},
     "output_type": "execute_result"
    }
   ],
   "source": [
    "re_points = r\"\\b(\\d*\\s*points)\"\n",
    "re_points = re.findall(re_points, doc2, re.IGNORECASE)\n",
    "print(re_points)\n",
    "print(len(re_points))\n",
    "doc2"
   ]
  },
  {
   "cell_type": "markdown",
   "metadata": {},
   "source": [
    "---  "
   ]
  }
 ],
 "metadata": {
  "kernelspec": {
   "display_name": "Python 3 (ipykernel)",
   "language": "python",
   "name": "python3"
  },
  "language_info": {
   "codemirror_mode": {
    "name": "ipython",
    "version": 3
   },
   "file_extension": ".py",
   "mimetype": "text/x-python",
   "name": "python",
   "nbconvert_exporter": "python",
   "pygments_lexer": "ipython3",
   "version": "3.9.1"
  }
 },
 "nbformat": 4,
 "nbformat_minor": 4
}
