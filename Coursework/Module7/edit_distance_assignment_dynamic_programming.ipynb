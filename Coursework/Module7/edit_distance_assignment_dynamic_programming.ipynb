{
 "cells": [
  {
   "cell_type": "markdown",
   "metadata": {},
   "source": [
    "### CS 5012: Foundations of Computer Science\n",
    "#### Programming Assignment: Computing Edit Distance\n",
    "\n",
    "Last Updated: March 21, 2022\n"
   ]
  },
  {
   "cell_type": "markdown",
   "metadata": {},
   "source": [
    "---"
   ]
  },
  {
   "cell_type": "markdown",
   "metadata": {},
   "source": [
    "**INSTRUCTIONS**\n",
    "\n",
    "Recall that *edit distance* is used to quantify the dissimilarity of two strings.  \n",
    "This is done by counting the minimum number of operations required to transform one string into the other.\n",
    "\n",
    "The operations we will consider are:\n",
    "- delete a character (**H**ello -> ello)\n",
    "- insert a character (ello -> **H**ello)\n",
    "- substitute a character (**t**op -> **b**op) \n",
    "\n",
    "We apply a penalty of 1 for each of these operations.\n",
    "\n",
    "Example:\n",
    "- string1: Hello\n",
    "- string2: elllo\n",
    "\n",
    "edit_distance(Hello,elllo) = 2\n",
    "\n",
    "Starting with *elllo* for example:   \n",
    "elllo -> **H**elllo (insert H: +1)   \n",
    "Hel**l**lo -> Hello (delete l: +1)\n",
    "\n",
    "The strings now match after two operations.\n",
    "\n",
    "Solve all tasks below, showing code and results.  \n",
    "Submit your completed file.\n",
    "\n",
    "\n",
    "**TOTAL POINTS: 10**\n",
    "\n",
    "---"
   ]
  },
  {
   "cell_type": "markdown",
   "metadata": {},
   "source": [
    "1) (6 POINTS) Write a function that take two strings as input, and computes and returns their edit distance. Use a matrix (as in LCS calculations) to track results, and have the function print the matrix."
   ]
  },
  {
   "cell_type": "code",
   "execution_count": 1,
   "metadata": {},
   "outputs": [],
   "source": [
    "def editDistance(a, b):\n",
    "    ## Paramter Checking\n",
    "    # if len(a) == 0:\n",
    "    #     return len(b)\n",
    "    # if len(b) == 0:\n",
    "    #     return len(a)\n",
    "    \n",
    "    ## Compute the LCS Matrix with Zeros with padding\n",
    "    ## columns are the second word\n",
    "    ## rows are the first word\n",
    "    matrix = [[0] * (len(b)+1) for _ in range(len(a))]\n",
    "    ## Add first row to be 0 .. len(b) - 1\n",
    "    frow = [[x for x in range(len(b) + 1)]]\n",
    "    matrix = frow + matrix\n",
    "    \n",
    "    ## Cost Calculator\n",
    "    ## DP Approach Skipping first space\n",
    "    for i in range(1, len(a)+1):\n",
    "        for j in range(0, len(b)+1):\n",
    "            ## Acconut for the blank space (first column should be 1...len(a) -1\n",
    "            if j == 0:\n",
    "                matrix[i][j] = matrix[i-1][0] + 1\n",
    "            ## Compare letters for operation cost\n",
    "            else:\n",
    "                operationCost = 1\n",
    "                if a[i-1] == b[j-1]:\n",
    "                    operationCost = 0\n",
    "                ## Compare diagnols and save the min\n",
    "                matrix[i][j] = min(matrix[i][j-1] + 1,matrix[i-1][j] + 1, matrix[i-1][j-1] + operationCost)\n",
    "    \n",
    "    for row in matrix:\n",
    "        print(row)\n",
    "    return matrix[i][j]"
   ]
  },
  {
   "cell_type": "code",
   "execution_count": 2,
   "metadata": {},
   "outputs": [
    {
     "name": "stdout",
     "output_type": "stream",
     "text": [
      "[0, 1, 2, 3, 4, 5]\n",
      "[1, 1, 2, 3, 4, 5]\n",
      "[2, 1, 2, 3, 4, 5]\n",
      "[3, 2, 1, 2, 3, 4]\n",
      "[4, 3, 2, 1, 2, 3]\n",
      "[5, 4, 3, 2, 2, 2]\n"
     ]
    },
    {
     "data": {
      "text/plain": [
       "2"
      ]
     },
     "execution_count": 2,
     "metadata": {},
     "output_type": "execute_result"
    }
   ],
   "source": [
    "editDistance(\"Hello\", \"elllo\")"
   ]
  },
  {
   "cell_type": "markdown",
   "metadata": {},
   "source": [
    "2) (1 POINT) Compute edit distance between **Bellman** and empty string"
   ]
  },
  {
   "cell_type": "code",
   "execution_count": 3,
   "metadata": {},
   "outputs": [
    {
     "name": "stdout",
     "output_type": "stream",
     "text": [
      "[0]\n",
      "[1]\n",
      "[2]\n",
      "[3]\n",
      "[4]\n",
      "[5]\n",
      "[6]\n",
      "[7]\n"
     ]
    },
    {
     "data": {
      "text/plain": [
       "7"
      ]
     },
     "execution_count": 3,
     "metadata": {},
     "output_type": "execute_result"
    }
   ],
   "source": [
    "editDistance(\"Bellman\", \"\")"
   ]
  },
  {
   "cell_type": "markdown",
   "metadata": {},
   "source": [
    "3)  (1 POINT) Compute edit distance between **test** and **test**"
   ]
  },
  {
   "cell_type": "code",
   "execution_count": 4,
   "metadata": {},
   "outputs": [
    {
     "name": "stdout",
     "output_type": "stream",
     "text": [
      "[0, 1, 2, 3, 4]\n",
      "[1, 0, 1, 2, 3]\n",
      "[2, 1, 0, 1, 2]\n",
      "[3, 2, 1, 0, 1]\n",
      "[4, 3, 2, 1, 0]\n"
     ]
    },
    {
     "data": {
      "text/plain": [
       "0"
      ]
     },
     "execution_count": 4,
     "metadata": {},
     "output_type": "execute_result"
    }
   ],
   "source": [
    "editDistance(\"test\", \"test\")"
   ]
  },
  {
   "cell_type": "markdown",
   "metadata": {},
   "source": [
    "4a)  (1 POINT) Compute edit distance between **mailman** and **namliam**"
   ]
  },
  {
   "cell_type": "code",
   "execution_count": 5,
   "metadata": {},
   "outputs": [
    {
     "name": "stdout",
     "output_type": "stream",
     "text": [
      "[0, 1, 2, 3, 4, 5, 6, 7]\n",
      "[1, 1, 2, 2, 3, 4, 5, 6]\n",
      "[2, 2, 1, 2, 3, 4, 4, 5]\n",
      "[3, 3, 2, 2, 3, 3, 4, 5]\n",
      "[4, 4, 3, 3, 2, 3, 4, 5]\n",
      "[5, 5, 4, 3, 3, 3, 4, 4]\n",
      "[6, 6, 5, 4, 4, 4, 3, 4]\n",
      "[7, 6, 6, 5, 5, 5, 4, 4]\n"
     ]
    },
    {
     "data": {
      "text/plain": [
       "4"
      ]
     },
     "execution_count": 5,
     "metadata": {},
     "output_type": "execute_result"
    }
   ],
   "source": [
    "editDistance(\"mailman\", \"namliam\")"
   ]
  },
  {
   "cell_type": "markdown",
   "metadata": {},
   "source": [
    "4b)  (1 POINT) Show each step of the process to change **mailman** to **namliam**.\n",
    "\n",
    "This should verify the edit distance. You might find your solution from (4a) helpful. "
   ]
  },
  {
   "cell_type": "code",
   "execution_count": 6,
   "metadata": {},
   "outputs": [],
   "source": [
    "def editDistanceMatrix(a, b):\n",
    "    ## Paramter Checking\n",
    "    # if len(a) == 0:\n",
    "    #     return len(b)\n",
    "    # if len(b) == 0:\n",
    "    #     return len(a)\n",
    "    \n",
    "    ## Compute the LCS Matrix with Zeros with padding\n",
    "    ## columns are the second word\n",
    "    ## rows are the first word\n",
    "    matrix = [[0] * (len(b)+1) for _ in range(len(a))]\n",
    "    ## Add first row to be 0 .. len(b) - 1\n",
    "    frow = [[x for x in range(len(b) + 1)]]\n",
    "    matrix = frow + matrix\n",
    "    \n",
    "    ## Cost Calculator\n",
    "    ## DP Approach Skipping first space\n",
    "    for i in range(1, len(a)+1):\n",
    "        for j in range(0, len(b)+1):\n",
    "            ## Acconut for the blank space (first column should be 1...len(a) -1\n",
    "            if j == 0:\n",
    "                matrix[i][j] = matrix[i-1][0] + 1\n",
    "            ## Compare letters for operation cost\n",
    "            else:\n",
    "                operationCost = 1\n",
    "                if a[i-1] == b[j-1]:\n",
    "                    operationCost = 0\n",
    "                    # print(\"Make no change for {}\".format(a[i-j]))\n",
    "                ## Compare diagnols and save the min\n",
    "                matrix[i][j] = min(matrix[i][j-1] + 1,matrix[i-1][j] + 1, matrix[i-1][j-1] + operationCost)\n",
    "    for row in matrix:\n",
    "        print(row)\n",
    "    ## Return matrix for step through of DP matrix\n",
    "    return matrix"
   ]
  },
  {
   "cell_type": "code",
   "execution_count": 7,
   "metadata": {},
   "outputs": [
    {
     "name": "stdout",
     "output_type": "stream",
     "text": [
      "[0, 1, 2, 3, 4, 5, 6, 7]\n",
      "[1, 1, 2, 2, 3, 4, 5, 6]\n",
      "[2, 2, 1, 2, 3, 4, 4, 5]\n",
      "[3, 3, 2, 2, 3, 3, 4, 5]\n",
      "[4, 4, 3, 3, 2, 3, 4, 5]\n",
      "[5, 5, 4, 3, 3, 3, 4, 4]\n",
      "[6, 6, 5, 4, 4, 4, 3, 4]\n",
      "[7, 6, 6, 5, 5, 5, 4, 4]\n",
      "Start transformation\n",
      "Transform n to m in namliam\n",
      "Count is now 1 and transformed word is mamliam.\n",
      "No transformation needed for the character a in mamliam\n",
      "Transform m to i in mamliam\n",
      "Count is now 2 and transformed word is mailiam.\n",
      "No transformation needed for the character l in mailiam\n",
      "Transform i to m in mailiam\n",
      "Count is now 3 and transformed word is mailmam.\n",
      "No transformation needed for the character a in mailmam\n",
      "Transform m to n in mailmam\n",
      "Count is now 4 and transformed word is mailman.\n"
     ]
    }
   ],
   "source": [
    "first_word = \"mailman\"\n",
    "second_word = \"namliam\"\n",
    "output = editDistanceMatrix(first_word, second_word)\n",
    "print(\"Start transformation\")\n",
    "start = (0,0)\n",
    "counter = 0\n",
    "while start[0] < len(first_word) or start[1] < len(second_word):\n",
    "    i, j = start\n",
    "    if output[i][j] == output[i+1][j+1]:\n",
    "        print(\"No transformation needed for the character {} in {}\".format(second_word[i], second_word))\n",
    "    else:\n",
    "        print(\"Transform {} to {} in {}\".format(second_word[i], first_word[i],second_word))\n",
    "        counter = counter + 1\n",
    "        second_word = list(second_word)\n",
    "        second_word[i] = first_word[i]\n",
    "        second_word = \"\".join(second_word)\n",
    "        print(\"Count is now {} and transformed word is {}.\".format(str(counter), second_word))\n",
    "    start = (i+1, j+1)"
   ]
  },
  {
   "cell_type": "markdown",
   "metadata": {},
   "source": [
    "---"
   ]
  }
 ],
 "metadata": {
  "kernelspec": {
   "display_name": "Python 3 (ipykernel)",
   "language": "python",
   "name": "python3"
  },
  "language_info": {
   "codemirror_mode": {
    "name": "ipython",
    "version": 3
   },
   "file_extension": ".py",
   "mimetype": "text/x-python",
   "name": "python",
   "nbconvert_exporter": "python",
   "pygments_lexer": "ipython3",
   "version": "3.9.1"
  }
 },
 "nbformat": 4,
 "nbformat_minor": 4
}
