{
 "cells": [
  {
   "cell_type": "code",
   "execution_count": 61,
   "id": "8b3921a9-5f17-449b-a5a7-4b476f8350ad",
   "metadata": {},
   "outputs": [],
   "source": [
    "def MED_character(str1,str2):\n",
    "    cost=0\n",
    "    len1=len(str1)\n",
    "    len2=len(str2)\n",
    "\n",
    "    #output the length of other string in case the length of any of the string is zero\n",
    "    if len1==0:\n",
    "        return len2\n",
    "    if len2==0:\n",
    "        return len1\n",
    "\n",
    "    accumulator = [[0 for x in range(len2)] for y in range(len1)] #initializing a zero matrix\n",
    "\n",
    "    # initializing the base cases\n",
    "    for i in range(0,len1):\n",
    "        accumulator[i][0] = i;\n",
    "    for i in range(0,len2):\n",
    "        accumulator[0][i] = i;\n",
    "\n",
    "    # we take the accumulator and iterate through it row by row. \n",
    "    for i in range(1,len1):\n",
    "        char1=str1[i]\n",
    "        for j in range(1,len2):\n",
    "            char2=str2[j]\n",
    "            cost1=0\n",
    "            if char1!=char2:\n",
    "                cost1=2 #cost for substitution\n",
    "            accumulator[i][j]=min(accumulator[i-1][j]+1, accumulator[i][j-1]+1, accumulator[i-1][j-1] + cost1 )\n",
    "\n",
    "    cost=accumulator[len1-1][len2-1]\n",
    "    for row in accumulator:\n",
    "        print(row)\n",
    "    return cost"
   ]
  },
  {
   "cell_type": "code",
   "execution_count": 43,
   "id": "fc6000f6-9e46-4391-81e2-6392ca425712",
   "metadata": {},
   "outputs": [],
   "source": [
    "def computeDistance(a, b):\n",
    "    ## Paramter Checking\n",
    "    if len(a) == 0:\n",
    "        return len(b)\n",
    "    if len(b) == 0:\n",
    "        return len(a)\n",
    "    \n",
    "    ## Add extra space at the beginning\n",
    "    a = \" \" + a\n",
    "    b = \" \" + b\n",
    "    \n",
    "    ## Compute the LCS Matrix with Zeros\n",
    "    matrix = [[0] * len(b) for _ in range(len(a))]\n",
    "    \n",
    "    ## Cost Calculator\n",
    "    ## DP Approach Skipping first space\n",
    "    for i in range(1, len(a)):\n",
    "        for j in range(1, len(b)):\n",
    "            ## Compare letters for operation cost\n",
    "            operationCost = 2\n",
    "            if a[i] == b[j]:\n",
    "                operationCost = 0\n",
    "            ## Compare diagnols and save the min\n",
    "            matrix[i][j] = min(matrix[i][j-1] + 1,matrix[i-1][j] + 1, matrix[i-1][j-1] + operationCost)\n",
    "    for row in matrix:\n",
    "        print(row)\n",
    "    return matrix[i][j]"
   ]
  },
  {
   "cell_type": "code",
   "execution_count": 64,
   "id": "28af6ece-6947-47b3-8f0f-be5010c8a125",
   "metadata": {},
   "outputs": [
    {
     "name": "stdout",
     "output_type": "stream",
     "text": [
      "[0, 1, 2, 3, 4, 5, 6]\n",
      "[1, 0, 1, 2, 3, 4, 5]\n",
      "[2, 1, 2, 3, 2, 3, 4]\n",
      "[3, 2, 3, 2, 3, 4, 5]\n",
      "[4, 3, 2, 3, 4, 5, 4]\n",
      "[5, 4, 3, 4, 5, 4, 5]\n",
      "[6, 5, 4, 5, 6, 5, 6]\n"
     ]
    },
    {
     "data": {
      "text/plain": [
       "6"
      ]
     },
     "execution_count": 64,
     "metadata": {},
     "output_type": "execute_result"
    }
   ],
   "source": [
    "MED_character(\"mailman\", \"namliam\")"
   ]
  },
  {
   "cell_type": "code",
   "execution_count": 46,
   "id": "6f91c787-8e99-40b0-ac07-96ba8dd7b720",
   "metadata": {},
   "outputs": [
    {
     "name": "stdout",
     "output_type": "stream",
     "text": [
      "[0, 0, 0, 0, 0, 0]\n",
      "[0, 1, 1, 1, 1, 1]\n",
      "[0, 0, 1, 2, 2, 2]\n",
      "[0, 1, 0, 1, 2, 3]\n",
      "[0, 1, 1, 0, 1, 2]\n",
      "[0, 1, 2, 1, 2, 1]\n"
     ]
    },
    {
     "data": {
      "text/plain": [
       "1"
      ]
     },
     "execution_count": 46,
     "metadata": {},
     "output_type": "execute_result"
    }
   ],
   "source": [
    "computeDistance(\"hello\", \"elllo\")"
   ]
  },
  {
   "cell_type": "code",
   "execution_count": 65,
   "id": "1d7a7b2e-6d90-4d92-b16d-e46d6983a2f6",
   "metadata": {},
   "outputs": [
    {
     "data": {
      "text/plain": [
       "(8,\n",
       " ['Replace `m` in sequence1 with `n`.',\n",
       "  'Make no change for character `a`.',\n",
       "  'Replace `i` in sequence1 with `m`.',\n",
       "  'Make no change for character `l`.',\n",
       "  'Replace `m` in sequence1 with `i`.',\n",
       "  'Make no change for character `a`.',\n",
       "  'Replace `n` in sequence1 with `m`.'])"
      ]
     },
     "execution_count": 65,
     "metadata": {},
     "output_type": "execute_result"
    }
   ],
   "source": [
    "# Below are the costs of different operations.\n",
    "ins_cost = 1\n",
    "del_cost = 1\n",
    "sub_cost = 2\n",
    "# Below function will take the two sequence and will return the distance between them.\n",
    "def edit_distance_recurse(seq1, seq2, operations=[]):\n",
    "    \"\"\"Returns the Edit Distance between the provided two sequences.\"\"\"\n",
    "    \n",
    "    if len(seq2) == 0:\n",
    "        operations = operations + ([f\"Delete `{seq1}` from sequence1.\"] if len(seq1) else [])\n",
    "        return len(seq1), operations\n",
    "    \n",
    "    if len(seq1) == 0:\n",
    "        operations = operations + ([f\"Insert `{seq2}` into sequence1.\"] if len(seq2) else [])\n",
    "        return len(seq2), operations\n",
    "    \n",
    "    if seq1[0] == seq2[0]:\n",
    "        operations = operations + [f\"Make no change for character `{seq1[0]}`.\"]\n",
    "        return edit_distance_recurse(seq1[1: ], seq2[1: ], operations)\n",
    "    \n",
    "    # calculate cost if insertion was made\n",
    "    ins_operations = operations + [f\"Insert `{seq2[0]}` in sequence1.\"]\n",
    "    insertion, ins_operations = edit_distance_recurse(seq1, seq2[1: ], ins_operations)\n",
    "    \n",
    "    # calculate cost if deletion was done\n",
    "    del_operations = operations + [f\"Delete `{seq1[0]}` from sequence1.\"]\n",
    "    deletion, del_operations = edit_distance_recurse(seq1[1: ], seq2, del_operations)\n",
    "    \n",
    "    # calculate cost if substitution was done\n",
    "    sub_operations = operations + [f\"Replace `{seq1[0]}` in sequence1 with `{seq2[0]}`.\"]\n",
    "    substitution, sub_operations = edit_distance_recurse(seq1[1: ], seq2[1: ], sub_operations)\n",
    "    \n",
    "    # calculate minimum cost\n",
    "    min_cost = min(insertion + ins_cost, deletion + del_cost, substitution + sub_cost)\n",
    "    \n",
    "    if min_cost == (substitution + sub_cost):\n",
    "        return min_cost, sub_operations\n",
    "    elif min_cost == deletion + del_cost:\n",
    "        return min_cost, del_operations\n",
    "    else:\n",
    "        return min_cost, ins_operations\n",
    "edit_distance_recurse(\"mailman\", \"namliam\")"
   ]
  },
  {
   "cell_type": "code",
   "execution_count": null,
   "id": "78acff67-a610-4178-bebf-3da7bdd4150a",
   "metadata": {},
   "outputs": [],
   "source": []
  }
 ],
 "metadata": {
  "kernelspec": {
   "display_name": "Python 3 (ipykernel)",
   "language": "python",
   "name": "python3"
  },
  "language_info": {
   "codemirror_mode": {
    "name": "ipython",
    "version": 3
   },
   "file_extension": ".py",
   "mimetype": "text/x-python",
   "name": "python",
   "nbconvert_exporter": "python",
   "pygments_lexer": "ipython3",
   "version": "3.9.1"
  }
 },
 "nbformat": 4,
 "nbformat_minor": 5
}
