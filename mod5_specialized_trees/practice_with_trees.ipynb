{
 "cells": [
  {
   "cell_type": "markdown",
   "metadata": {
    "id": "dJIXJaAEu3fS"
   },
   "source": [
    "### Practice with Trees (and some OOP review)\n",
    "#### Last updated: June 30, 2022"
   ]
  },
  {
   "cell_type": "markdown",
   "metadata": {},
   "source": [
    "---"
   ]
  },
  {
   "cell_type": "markdown",
   "metadata": {},
   "source": [
    "### I. Node Class"
   ]
  },
  {
   "cell_type": "markdown",
   "metadata": {},
   "source": [
    "We define class `Node` to create a node. It contains three attributes:\n",
    "- data\n",
    "- left child\n",
    "- right child\n",
    "\n",
    "it has two methods: \n",
    "- constructor `__init__` which requires a value for data\n",
    "- `__str__` to return the node as a string\n",
    "\n",
    "Recall that each method takes the reflexive `self` as first argument.  \n",
    "Attributes of the class are also referenced such as `self.data`"
   ]
  },
  {
   "cell_type": "code",
   "execution_count": 15,
   "metadata": {
    "id": "qpP8DA3KuwrN"
   },
   "outputs": [],
   "source": [
    "class Node:\n",
    "\n",
    "      def __init__(self, data): # Constructor of Node class\n",
    "            # A node has a data value, a left child node and a right child node\n",
    "          self.data = data  #data item\n",
    "          self.left = None  #left child, initially empty\n",
    "          self.right = None #right child, initially empty\n",
    "\n",
    "      def __str__(self): # Printing a node\n",
    "\n",
    "          return str(self.data) #return as string"
   ]
  },
  {
   "cell_type": "markdown",
   "metadata": {},
   "source": [
    "Instantiating a node without data will fail:"
   ]
  },
  {
   "cell_type": "code",
   "execution_count": 16,
   "metadata": {},
   "outputs": [
    {
     "ename": "TypeError",
     "evalue": "__init__() missing 1 required positional argument: 'data'",
     "output_type": "error",
     "traceback": [
      "\u001b[1;31m---------------------------------------------------------------------------\u001b[0m",
      "\u001b[1;31mTypeError\u001b[0m                                 Traceback (most recent call last)",
      "\u001b[1;32m<ipython-input-16-4211aa69ec83>\u001b[0m in \u001b[0;36m<module>\u001b[1;34m\u001b[0m\n\u001b[1;32m----> 1\u001b[1;33m \u001b[0mn\u001b[0m \u001b[1;33m=\u001b[0m \u001b[0mNode\u001b[0m\u001b[1;33m(\u001b[0m\u001b[1;33m)\u001b[0m\u001b[1;33m\u001b[0m\u001b[1;33m\u001b[0m\u001b[0m\n\u001b[0m",
      "\u001b[1;31mTypeError\u001b[0m: __init__() missing 1 required positional argument: 'data'"
     ]
    }
   ],
   "source": [
    "n = Node()"
   ]
  },
  {
   "cell_type": "markdown",
   "metadata": {},
   "source": [
    "this will succeed:"
   ]
  },
  {
   "cell_type": "code",
   "execution_count": 17,
   "metadata": {},
   "outputs": [],
   "source": [
    "n = Node(5)"
   ]
  },
  {
   "cell_type": "markdown",
   "metadata": {},
   "source": [
    "calling object `n` gives the memory address:"
   ]
  },
  {
   "cell_type": "code",
   "execution_count": 18,
   "metadata": {},
   "outputs": [
    {
     "data": {
      "text/plain": [
       "<__main__.Node at 0x1cfe1f85048>"
      ]
     },
     "execution_count": 18,
     "metadata": {},
     "output_type": "execute_result"
    }
   ],
   "source": [
    "n"
   ]
  },
  {
   "cell_type": "code",
   "execution_count": 19,
   "metadata": {},
   "outputs": [
    {
     "data": {
      "text/plain": [
       "5"
      ]
     },
     "execution_count": 19,
     "metadata": {},
     "output_type": "execute_result"
    }
   ],
   "source": [
    "n.data"
   ]
  },
  {
   "cell_type": "markdown",
   "metadata": {},
   "source": [
    "The `__str__` method defined above allows for printing the node value."
   ]
  },
  {
   "cell_type": "code",
   "execution_count": 20,
   "metadata": {},
   "outputs": [
    {
     "name": "stdout",
     "output_type": "stream",
     "text": [
      "5\n"
     ]
    }
   ],
   "source": [
    "print(n)"
   ]
  },
  {
   "cell_type": "markdown",
   "metadata": {},
   "source": [
    "### II. BinarySearchTree Class"
   ]
  },
  {
   "cell_type": "code",
   "execution_count": 21,
   "metadata": {},
   "outputs": [],
   "source": [
    "class BinarySearchTree:\n",
    "\n",
    "      def __init__(self): # constructor\n",
    "\n",
    "          self.root = None  # Initially, an empty root node\n",
    "          self.edgeList = [] # holds tree edges; initially empty\n",
    "\n",
    "# ===================================================================\n",
    "      def buildBST(self, val):  # method to build a binary search tree \n",
    "\n",
    "          if self.root == None:\n",
    "             self.root = Node(val)\n",
    "          else:\n",
    "             current = self.root\n",
    "             while 1:\n",
    "                 if val < current.data:\n",
    "                   if current.left:\n",
    "                      current = current.left  # Go left...\n",
    "                   else:\n",
    "                      current.left = Node(val)  # Left child is empty; place value here\n",
    "                      self.edgeList.append((current.data,val))\n",
    "                      break;      \n",
    "\n",
    "                 elif val > current.data:      \n",
    "                    if current.right:\n",
    "                       current = current.right  # Go right...\n",
    "                    else:\n",
    "                       current.right = Node(val)  # Right child is empty; place value here\n",
    "                       self.edgeList.append((current.data,val))\n",
    "                       break;      \n",
    "                 else:             \n",
    "                    break \n",
    "\n",
    "# ===================================================================\n",
    "      def only_go_left(self, node):  # method to traverse tree going left only\n",
    "        if node is not None:\n",
    "            # breakpoint()\n",
    "            self.only_go_left(node.left)\n",
    "            print(node.data, end=\" \")\n",
    "# ===================================================================\n",
    "      def only_go_right(self, node):  # method to traverse tree going right only\n",
    "        if node is not None:\n",
    "            # breakpoint()\n",
    "            self.only_go_right(node.right)\n",
    "            print(node.data, end=\" \")\n",
    "# ==================================================================="
   ]
  },
  {
   "cell_type": "markdown",
   "metadata": {},
   "source": [
    "### III. Building and Traversing a Binary Search Tree"
   ]
  },
  {
   "cell_type": "markdown",
   "metadata": {},
   "source": [
    "Instantiate BinarySearchTree object:"
   ]
  },
  {
   "cell_type": "code",
   "execution_count": 22,
   "metadata": {},
   "outputs": [],
   "source": [
    "bst = BinarySearchTree()"
   ]
  },
  {
   "cell_type": "markdown",
   "metadata": {},
   "source": [
    "Let's look at the attributes:"
   ]
  },
  {
   "cell_type": "code",
   "execution_count": 25,
   "metadata": {},
   "outputs": [],
   "source": [
    "bst.root"
   ]
  },
  {
   "cell_type": "code",
   "execution_count": 24,
   "metadata": {},
   "outputs": [
    {
     "data": {
      "text/plain": [
       "[]"
      ]
     },
     "execution_count": 24,
     "metadata": {},
     "output_type": "execute_result"
    }
   ],
   "source": [
    "bst.edgeList"
   ]
  },
  {
   "cell_type": "markdown",
   "metadata": {},
   "source": [
    "Nothing too exciting yet, as the attributes are empty."
   ]
  },
  {
   "cell_type": "markdown",
   "metadata": {},
   "source": [
    "Now build out the BST with method `buildBST()`"
   ]
  },
  {
   "cell_type": "code",
   "execution_count": 28,
   "metadata": {},
   "outputs": [],
   "source": [
    "arr = [3,1,4,5,9] # data for the nodes\n",
    "for i in arr:     # populate the Binary Search Tree with the data\n",
    "    bst.buildBST(i)"
   ]
  },
  {
   "cell_type": "markdown",
   "metadata": {},
   "source": [
    "It helps to visualize the tree and think through its construction:\n",
    "- place 3 at root\n",
    "- make 1 a left child (since 1 < 3)\n",
    "- make 4 right child (since 4 > 3)\n",
    "- make 5 right child of 4 (starting at root, 5 > 3 so go right; 5 > 4)\n",
    "- make 9 right child of 5 (starting from 5, 9 > 5)"
   ]
  },
  {
   "cell_type": "markdown",
   "metadata": {},
   "source": [
    "          3\n",
    "        /   \\\n",
    "      1       4\n",
    "               \\      \n",
    "                5\n",
    "                 \\\n",
    "                  9"
   ]
  },
  {
   "cell_type": "markdown",
   "metadata": {},
   "source": [
    "Notice the BST is highly imbalanced, which is a weakness of this structure."
   ]
  },
  {
   "cell_type": "markdown",
   "metadata": {},
   "source": [
    "Now we'd like a way to traverse the tree and print the values.  \n",
    "Recursion will help.\n",
    "\n",
    "Let's experiment with the `only_go_left()` method"
   ]
  },
  {
   "cell_type": "code",
   "execution_count": 29,
   "metadata": {},
   "outputs": [
    {
     "name": "stdout",
     "output_type": "stream",
     "text": [
      "1 3 None\n"
     ]
    }
   ],
   "source": [
    "print(bst.only_go_left(bst.root))"
   ]
  },
  {
   "cell_type": "markdown",
   "metadata": {},
   "source": [
    "The function goes left and deep (using recursion).  \n",
    "It prints the left subtree.  \n",
    "One thing to note is that there is a stack of function calls.  \n",
    "The last (deepest) node called is printed first, then next to last, up to the top.  \n",
    "Make sure this makes sense."
   ]
  },
  {
   "cell_type": "markdown",
   "metadata": {},
   "source": [
    "---\n",
    "\n",
    "using **breakpoint()**\n",
    "\n",
    "the definition `only_go_left()` has a breakpoint that is commented.  \n",
    "you can uncomment this line and step through the code.  \n",
    "rerun the cells from the class down to the `only_go_left()` call,  \n",
    "and it will return the debugger with prompt `(pdb)`   \n",
    "entering `n` will step once. if you continue to run `n` it will trace out the steps.  \n",
    "entering `c` will run the code to completion.  \n",
    "this might help your understanding.\n",
    "\n",
    "---  "
   ]
  },
  {
   "cell_type": "markdown",
   "metadata": {},
   "source": [
    "Now try the `only_go_right` method"
   ]
  },
  {
   "cell_type": "code",
   "execution_count": 30,
   "metadata": {},
   "outputs": [
    {
     "name": "stdout",
     "output_type": "stream",
     "text": [
      "9 5 4 3 None\n"
     ]
    }
   ],
   "source": [
    "print(bst.only_go_right(bst.root))"
   ]
  },
  {
   "cell_type": "markdown",
   "metadata": {},
   "source": [
    "The function goes right and deep, printing the right subtree.  \n",
    "Again, the deepest node called gets printed first, then next to last, ...  \n",
    "Make sure this makes sense.\n",
    "\n",
    "---"
   ]
  },
  {
   "cell_type": "markdown",
   "metadata": {},
   "source": [
    "In your homework assignment, you will put these pieces together to traverse the tree in different ways. Hope you enjoyed this tutorial!"
   ]
  }
 ],
 "metadata": {
  "colab": {
   "collapsed_sections": [],
   "name": "BST_and_NetworkX_solution.ipynb",
   "provenance": []
  },
  "kernelspec": {
   "display_name": "Python 3",
   "language": "python",
   "name": "python3"
  },
  "language_info": {
   "codemirror_mode": {
    "name": "ipython",
    "version": 3
   },
   "file_extension": ".py",
   "mimetype": "text/x-python",
   "name": "python",
   "nbconvert_exporter": "python",
   "pygments_lexer": "ipython3",
   "version": "3.7.4"
  }
 },
 "nbformat": 4,
 "nbformat_minor": 4
}
