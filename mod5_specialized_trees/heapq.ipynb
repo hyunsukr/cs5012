{
 "cells": [
  {
   "cell_type": "markdown",
   "metadata": {},
   "source": [
    "## Python heapq — Heap queue algorithm\n",
    "\n",
    "\n",
    "### University of Virginia\n",
    "### CS 5012: Foundations of Computer Science\n",
    "### Last Updated: March 7, 2022\n",
    "---  \n",
    "\n",
    "### SOURCE\n",
    "- https://docs.python.org/3/library/heapq.html\n",
    "\n",
    "\n",
    "### OBJECTIVES\n",
    "- Introduce the `heapq` module\n",
    "\n",
    "---\n",
    "\n",
    "**Implementation**\n",
    "\n",
    "`heapq` provides an implementation of the heap queue algorithm\n",
    "\n",
    "Implementation uses arrays for which `heap[k] <= heap[2*k+1]` and `heap[k] <= heap[2*k+2]` for all k.  \n",
    "This is a `min heap`\n",
    "\n",
    "The smallest value in `heap` can be found in `heap[0]`\n",
    "\n",
    "**Some important methods:**\n",
    "\n",
    "`heapq.heappush(heap, item)`  \n",
    "Push the value *item* onto the heap, maintaining the heap invariant.\n",
    "\n",
    "`heapq.heappop(heap)`  \n",
    "Pop and return the smallest item from the heap\n",
    "\n",
    "`heapq.nlargest(n, iterable, key=None)`  \n",
    "Return a list with the $n$ largest elements from the dataset\n",
    "\n",
    "`heapq.nsmallest(n, iterable, key=None)`  \n",
    "Return a list with the $n$ smallest elements from the dataset defined by iterable\n",
    "\n",
    "For details see [here](https://docs.python.org/3/library/heapq.html)  \n",
    "\n",
    "---\n",
    "\n",
    "**Example 1: Implement a heapsort by pushing values onto a heap and popping off smallest values**"
   ]
  },
  {
   "cell_type": "code",
   "execution_count": 7,
   "metadata": {},
   "outputs": [],
   "source": [
    "from heapq import heappush, heappop\n",
    "\n",
    "def heapsort(iterable):\n",
    "    heap = []\n",
    "    for val in iterable:\n",
    "        heappush(heap, val)\n",
    "    return [heappop(heap) for i in range(len(heap))]"
   ]
  },
  {
   "cell_type": "markdown",
   "metadata": {},
   "source": [
    "Now pass an unsorted list to the function. It will pop the values into a sorted list."
   ]
  },
  {
   "cell_type": "code",
   "execution_count": 9,
   "metadata": {},
   "outputs": [
    {
     "data": {
      "text/plain": [
       "[1, 2, 4, 5, 6, 7, 11]"
      ]
     },
     "execution_count": 9,
     "metadata": {},
     "output_type": "execute_result"
    }
   ],
   "source": [
    "data = [1, 5, 7, 11, 2, 4, 6]\n",
    "heapsort(data)"
   ]
  },
  {
   "cell_type": "markdown",
   "metadata": {},
   "source": [
    "**Example 2: Use nlargest() and nsmallest() methods to return n largest and smallest values**"
   ]
  },
  {
   "cell_type": "code",
   "execution_count": 20,
   "metadata": {},
   "outputs": [
    {
     "name": "stdout",
     "output_type": "stream",
     "text": [
      "3 largest: [11, 7, 6]\n",
      "3 smallest: [1, 2, 4]\n"
     ]
    }
   ],
   "source": [
    "from heapq import nlargest, nsmallest\n",
    "\n",
    "topk = 3\n",
    "\n",
    "print(topk, 'largest:', nlargest(topk, data))\n",
    "print(topk, 'smallest:', nsmallest(topk, data))"
   ]
  },
  {
   "cell_type": "markdown",
   "metadata": {},
   "source": [
    "---"
   ]
  }
 ],
 "metadata": {
  "anaconda-cloud": {},
  "kernelspec": {
   "display_name": "Python 3",
   "language": "python",
   "name": "python3"
  },
  "language_info": {
   "codemirror_mode": {
    "name": "ipython",
    "version": 3
   },
   "file_extension": ".py",
   "mimetype": "text/x-python",
   "name": "python",
   "nbconvert_exporter": "python",
   "pygments_lexer": "ipython3",
   "version": "3.7.4"
  }
 },
 "nbformat": 4,
 "nbformat_minor": 4
}
