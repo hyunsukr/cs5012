{
 "cells": [
  {
   "cell_type": "markdown",
   "metadata": {},
   "source": [
    "### CS 5012: Foundations of Computer Science\n",
    "#### Programming Assignment: Computing Edit Distance\n",
    "\n",
    "Last Updated: March 21, 2022\n"
   ]
  },
  {
   "cell_type": "markdown",
   "metadata": {},
   "source": [
    "---"
   ]
  },
  {
   "cell_type": "markdown",
   "metadata": {},
   "source": [
    "**INSTRUCTIONS**\n",
    "\n",
    "Recall that *edit distance* is used to quantify the dissimilarity of two strings.  \n",
    "This is done by counting the minimum number of operations required to transform one string into the other.\n",
    "\n",
    "The operations we will consider are:\n",
    "- delete a character (**H**ello -> ello)\n",
    "- insert a character (ello -> **H**ello)\n",
    "- substitute a character (**t**op -> **b**op) \n",
    "\n",
    "We apply a penalty of 1 for each of these operations.\n",
    "\n",
    "Example:\n",
    "- string1: Hello\n",
    "- string2: elllo\n",
    "\n",
    "edit_distance(Hello,elllo) = 2\n",
    "\n",
    "Starting with *elllo* for example:   \n",
    "elllo -> **H**elllo (insert H: +1)   \n",
    "Hel**l**lo -> Hello (delete l: +1)\n",
    "\n",
    "The strings now match after two operations.\n",
    "\n",
    "Solve all tasks below, showing code and results.  \n",
    "Submit your completed file.\n",
    "\n",
    "\n",
    "**TOTAL POINTS: 10**\n",
    "\n",
    "---"
   ]
  },
  {
   "cell_type": "markdown",
   "metadata": {},
   "source": [
    "1) (6 POINTS) Write a function that take two strings as input, and computes and returns their edit distance. Use a matrix (as in LCS calculations) to track results, and have the function print the matrix."
   ]
  },
  {
   "cell_type": "code",
   "execution_count": null,
   "metadata": {},
   "outputs": [],
   "source": []
  },
  {
   "cell_type": "markdown",
   "metadata": {},
   "source": [
    "2) (1 POINT) Compute edit distance between **Bellman** and empty string"
   ]
  },
  {
   "cell_type": "code",
   "execution_count": null,
   "metadata": {},
   "outputs": [],
   "source": []
  },
  {
   "cell_type": "markdown",
   "metadata": {},
   "source": [
    "3)  (1 POINT) Compute edit distance between **test** and **test**"
   ]
  },
  {
   "cell_type": "code",
   "execution_count": null,
   "metadata": {},
   "outputs": [],
   "source": []
  },
  {
   "cell_type": "markdown",
   "metadata": {},
   "source": [
    "4a)  (1 POINT) Compute edit distance between **mailman** and **namliam**"
   ]
  },
  {
   "cell_type": "code",
   "execution_count": null,
   "metadata": {},
   "outputs": [],
   "source": []
  },
  {
   "cell_type": "markdown",
   "metadata": {},
   "source": [
    "4b)  (1 POINT) Show each step of the process to change **mailman** to **namliam**.\n",
    "\n",
    "This should verify the edit distance. You might find your solution from (4a) helpful. "
   ]
  },
  {
   "cell_type": "code",
   "execution_count": null,
   "metadata": {},
   "outputs": [],
   "source": []
  },
  {
   "cell_type": "markdown",
   "metadata": {},
   "source": [
    "---"
   ]
  }
 ],
 "metadata": {
  "kernelspec": {
   "display_name": "Python 3",
   "language": "python",
   "name": "python3"
  },
  "language_info": {
   "codemirror_mode": {
    "name": "ipython",
    "version": 3
   },
   "file_extension": ".py",
   "mimetype": "text/x-python",
   "name": "python",
   "nbconvert_exporter": "python",
   "pygments_lexer": "ipython3",
   "version": "3.7.4"
  }
 },
 "nbformat": 4,
 "nbformat_minor": 4
}
