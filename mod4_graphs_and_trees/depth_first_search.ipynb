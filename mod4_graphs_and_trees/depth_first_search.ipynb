{
 "cells": [
  {
   "cell_type": "markdown",
   "metadata": {},
   "source": [
    "### CS 5012: Foundations of Computer Science\n",
    "#### Depth First Search\n",
    "\n",
    "Last Updated: February 25, 2022\n",
    "\n",
    "---  "
   ]
  },
  {
   "cell_type": "markdown",
   "metadata": {},
   "source": [
    "#### Objectives: \n",
    "\n",
    "Present an example of Depth First Search\n",
    "\n",
    "#### Source:  \n",
    "https://towardsdatascience.com/search-algorithm-depth-first-search-with-python-1f10da161980"
   ]
  },
  {
   "cell_type": "markdown",
   "metadata": {},
   "source": [
    "---"
   ]
  },
  {
   "cell_type": "markdown",
   "metadata": {},
   "source": [
    "Consider this tree. We would like to traverse it using depth first search.  \n",
    "Specifically we would start with path: A->B->D->H then back up to D and explore I and so forth."
   ]
  },
  {
   "cell_type": "markdown",
   "metadata": {},
   "source": [
    "![tree_dfs](tree_dfs1.png)"
   ]
  },
  {
   "cell_type": "markdown",
   "metadata": {},
   "source": [
    "We need a way to represent the tree in a useful object.  \n",
    "Here we build a list of lists, calling it the **Adjacency List**, where each list will hold an edge between nodes."
   ]
  },
  {
   "cell_type": "code",
   "execution_count": 1,
   "metadata": {},
   "outputs": [
    {
     "data": {
      "text/plain": [
       "[['A', 'B'],\n",
       " ['A', 'C'],\n",
       " ['B', 'D'],\n",
       " ['B', 'E'],\n",
       " ['C', 'F'],\n",
       " ['C', 'G'],\n",
       " ['D', 'H'],\n",
       " ['D', 'I'],\n",
       " ['F', 'J']]"
      ]
     },
     "execution_count": 1,
     "metadata": {},
     "output_type": "execute_result"
    }
   ],
   "source": [
    "from collections import defaultdict\n",
    "\n",
    "# edges as a list of lists\n",
    "edges = [['A', 'B'], ['A', 'C'], ['B', 'D'], ['B', 'E'], ['C', 'F'], ['C', 'G'], ['D', 'H'], ['D', 'I'], ['F', 'J']]\n",
    "edges"
   ]
  },
  {
   "cell_type": "markdown",
   "metadata": {},
   "source": [
    "Next we write a function that creates an adjacency dictionary."
   ]
  },
  {
   "cell_type": "code",
   "execution_count": 2,
   "metadata": {},
   "outputs": [],
   "source": [
    "def gen_adj(edges):\n",
    "    adj_list = defaultdict(list)\n",
    "    for u, v in edges: # for each edge, append it in both directions\n",
    "        adj_list[u].append(v)\n",
    "        adj_list[v].append(u)\n",
    "    return adj_list"
   ]
  },
  {
   "cell_type": "markdown",
   "metadata": {},
   "source": [
    "Build the adjacency dict"
   ]
  },
  {
   "cell_type": "code",
   "execution_count": 3,
   "metadata": {},
   "outputs": [
    {
     "name": "stdout",
     "output_type": "stream",
     "text": [
      "defaultdict(<class 'list'>, {'A': ['B', 'C'], 'B': ['A', 'D', 'E'], 'C': ['A', 'F', 'G'], 'D': ['B', 'H', 'I'], 'E': ['B'], 'F': ['C', 'J'], 'G': ['C'], 'H': ['D'], 'I': ['D'], 'J': ['F']})\n"
     ]
    }
   ],
   "source": [
    "adj = gen_adj(edges)\n",
    "print(adj)"
   ]
  },
  {
   "cell_type": "markdown",
   "metadata": {},
   "source": [
    "Extract some examples from different nodes"
   ]
  },
  {
   "cell_type": "code",
   "execution_count": 4,
   "metadata": {},
   "outputs": [
    {
     "data": {
      "text/plain": [
       "['B', 'C']"
      ]
     },
     "execution_count": 4,
     "metadata": {},
     "output_type": "execute_result"
    }
   ],
   "source": [
    "adj['A']"
   ]
  },
  {
   "cell_type": "code",
   "execution_count": 5,
   "metadata": {},
   "outputs": [
    {
     "data": {
      "text/plain": [
       "['A', 'D', 'E']"
      ]
     },
     "execution_count": 5,
     "metadata": {},
     "output_type": "execute_result"
    }
   ],
   "source": [
    "adj['B']"
   ]
  },
  {
   "cell_type": "markdown",
   "metadata": {},
   "source": [
    "Next we will search the tree\n",
    "\n",
    "Some important elements:\n",
    "- search will use recursion\n",
    "- we keep track of the path\n",
    "\n",
    "The function to implement search needs to take: \n",
    "- the adjacency list\n",
    "- the node\n",
    "- the path"
   ]
  },
  {
   "cell_type": "code",
   "execution_count": 6,
   "metadata": {},
   "outputs": [],
   "source": [
    "def dfs(adjlist, node, path = None):\n",
    "    \n",
    "    if path is None:\n",
    "        path = []\n",
    "        \n",
    "    path.append(node)\n",
    "    \n",
    "    for nbr in adjlist[node]: # for each of the node's neighbors (parent and children)\n",
    "        if nbr not in path: # exclude the parent\n",
    "            dfs(adjlist, nbr, path)\n",
    "            \n",
    "    return path"
   ]
  },
  {
   "cell_type": "markdown",
   "metadata": {},
   "source": [
    "Lastly, call the function to return the explored path"
   ]
  },
  {
   "cell_type": "code",
   "execution_count": 7,
   "metadata": {},
   "outputs": [
    {
     "name": "stdout",
     "output_type": "stream",
     "text": [
      "['A', 'B', 'D', 'H', 'I', 'E', 'C', 'F', 'J', 'G']\n"
     ]
    }
   ],
   "source": [
    "print(dfs(adj, 'A'))"
   ]
  },
  {
   "cell_type": "markdown",
   "metadata": {},
   "source": [
    "Here is the tree again as a reminder:"
   ]
  },
  {
   "cell_type": "markdown",
   "metadata": {},
   "source": [
    "![tree_dfs](tree_dfs1.png)"
   ]
  },
  {
   "cell_type": "markdown",
   "metadata": {},
   "source": [
    "The result matches what we expect."
   ]
  },
  {
   "cell_type": "markdown",
   "metadata": {},
   "source": [
    "---"
   ]
  },
  {
   "cell_type": "markdown",
   "metadata": {},
   "source": [
    "**Exercise**\n",
    "\n",
    "Carefully think through how the code works to make sure you understand it.\n",
    "\n",
    "Do you understand how recursion is being used?"
   ]
  },
  {
   "cell_type": "markdown",
   "metadata": {},
   "source": [
    "---"
   ]
  }
 ],
 "metadata": {
  "kernelspec": {
   "display_name": "Python 3",
   "language": "python",
   "name": "python3"
  },
  "language_info": {
   "codemirror_mode": {
    "name": "ipython",
    "version": 3
   },
   "file_extension": ".py",
   "mimetype": "text/x-python",
   "name": "python",
   "nbconvert_exporter": "python",
   "pygments_lexer": "ipython3",
   "version": "3.7.4"
  }
 },
 "nbformat": 4,
 "nbformat_minor": 4
}
