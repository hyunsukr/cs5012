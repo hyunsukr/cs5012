{
 "cells": [
  {
   "cell_type": "markdown",
   "metadata": {},
   "source": [
    "#### CS 5012: Foundations of Computer Science\n",
    "#### Hashing Demonstration\n",
    "#### Last updated: June 8, 2022"
   ]
  },
  {
   "cell_type": "markdown",
   "metadata": {},
   "source": [
    "---\n",
    "\n",
    "#### Executive Summary  \n",
    "We demonstrate the runtime of linear search versus using as hash table\n",
    "\n",
    "---"
   ]
  },
  {
   "cell_type": "code",
   "execution_count": null,
   "metadata": {},
   "outputs": [],
   "source": [
    "import time\n",
    "import random\n",
    "import numpy as np"
   ]
  },
  {
   "cell_type": "code",
   "execution_count": null,
   "metadata": {},
   "outputs": [],
   "source": [
    "target = 0      # we will search for this value\n",
    "length = 100000 # we will create a list with this length"
   ]
  },
  {
   "cell_type": "code",
   "execution_count": null,
   "metadata": {},
   "outputs": [],
   "source": [
    "# create list of random data\n",
    "vals = np.random.rand(1,length).flatten().tolist()\n",
    "\n",
    "# generate random index for storing the target\n",
    "ix = random.randrange(length)\n",
    "\n",
    "# randomly assign element the target\n",
    "vals[ix] = target\n",
    "\n",
    "print('List has length:', len(vals))\n",
    "print('Store target:', target, 'in position:', ix)\n",
    "print('verifying...', 'ix:', ix, 'target[ix]=', vals[ix])"
   ]
  },
  {
   "cell_type": "code",
   "execution_count": null,
   "metadata": {},
   "outputs": [],
   "source": [
    "# linear search for the target\n",
    "\n",
    "t_start = time.time()\n",
    "for ii in range(length):\n",
    "    if vals[ii] == target:\n",
    "        print('target:', target, 'found in index:', ii)\n",
    "        t_list = time.time()-t_start\n",
    "        print('search runtime:', t_list)\n",
    "        break"
   ]
  },
  {
   "cell_type": "markdown",
   "metadata": {},
   "source": [
    "---  \n",
    "\n",
    "Now convert the list to a hash table and time the search"
   ]
  },
  {
   "cell_type": "code",
   "execution_count": null,
   "metadata": {},
   "outputs": [],
   "source": [
    "dnary = {val:key for key, val in enumerate(vals)}\n",
    "\n",
    "for k, v in dnary.items():\n",
    "    if v < 10:\n",
    "        print('k:',k,'v:',v)"
   ]
  },
  {
   "cell_type": "code",
   "execution_count": null,
   "metadata": {},
   "outputs": [],
   "source": [
    "t_start = time.time()\n",
    "print('target:', target, 'found in index:', dnary[target])\n",
    "t_hash = time.time()-t_start\n",
    "print('search runtime:', t_hash)"
   ]
  },
  {
   "cell_type": "code",
   "execution_count": null,
   "metadata": {},
   "outputs": [],
   "source": [
    "print('relative runtime:', t_hash / t_list)"
   ]
  },
  {
   "cell_type": "markdown",
   "metadata": {},
   "source": [
    "---"
   ]
  }
 ],
 "metadata": {
  "kernelspec": {
   "display_name": "Python 3",
   "language": "python",
   "name": "python3"
  },
  "language_info": {
   "codemirror_mode": {
    "name": "ipython",
    "version": 3
   },
   "file_extension": ".py",
   "mimetype": "text/x-python",
   "name": "python",
   "nbconvert_exporter": "python",
   "pygments_lexer": "ipython3",
   "version": "3.7.4"
  }
 },
 "nbformat": 4,
 "nbformat_minor": 4
}
